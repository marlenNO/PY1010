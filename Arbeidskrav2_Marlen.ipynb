{
 "cells": [
  {
   "cell_type": "code",
   "execution_count": 1,
   "id": "43007c95-ae5c-4a91-bdfd-d2ee9d335a52",
   "metadata": {},
   "outputs": [
    {
     "name": "stdin",
     "output_type": "stream",
     "text": [
      "Hvilket år er du født?  1993\n"
     ]
    },
    {
     "name": "stdout",
     "output_type": "stream",
     "text": [
      "Alder i 2024:  31\n"
     ]
    }
   ],
   "source": [
    "\"\"\" Oppgave 1 - regne ut alder \"\"\"\n",
    "\n",
    "alder = int(input(\"Hvilket år er du født?\"))\n",
    "\n",
    "nåværende_alder = 2024 - alder\n",
    "\n",
    "print(\"Alder i 2024:\", nåværende_alder)"
   ]
  },
  {
   "cell_type": "code",
   "execution_count": 7,
   "id": "b1617a0b-1e31-4590-8402-882484b69fc2",
   "metadata": {},
   "outputs": [
    {
     "name": "stdin",
     "output_type": "stream",
     "text": [
      "Skriv inn antall elever: 21\n"
     ]
    },
    {
     "name": "stdout",
     "output_type": "stream",
     "text": [
      "Antall pizzaer som skal kjøpes inn: 6\n"
     ]
    }
   ],
   "source": [
    "\"\"\" Oppgave 2 - innkjøp pizza \"\"\" \n",
    "\n",
    "import numpy as np \n",
    "\n",
    "antall_elever = int(input(\"Skriv inn antall elever:\"))\n",
    "\n",
    "antall_pizza_pr_person = 1/4\n",
    "antall_pizzaer = (antall_elever * antall_pizza_pr_person)\n",
    "opprundet_antall_pizzaer = np.ceil(antall_pizzaer) \n",
    "\n",
    "print(\"Antall pizzaer som skal kjøpes inn:\", int(opprundet_antall_pizzaer))"
   ]
  },
  {
   "cell_type": "code",
   "execution_count": 21,
   "id": "b1cccac8-8ff2-420a-a43e-816f9ed78282",
   "metadata": {},
   "outputs": [
    {
     "name": "stdin",
     "output_type": "stream",
     "text": [
      "Skriv inn gradtallet: 150\n"
     ]
    },
    {
     "name": "stdout",
     "output_type": "stream",
     "text": [
      "Radiantallet er: 2.62\n"
     ]
    }
   ],
   "source": [
    "\"\"\" Oppgave 3 - Omregning fra grader til radianer \"\"\"\n",
    "\n",
    "import numpy as np\n",
    "\n",
    "def fun_g2r(v_grad):\n",
    "    v_rad = v_grad*np.pi/180\n",
    "    return v_rad\n",
    "\n",
    "v_grad = float(input(\"Skriv inn gradtallet:\"))\n",
    "v_rad = fun_g2r(v_grad)\n",
    "\n",
    "print(\"Radiantallet er:\", round(v_rad, 2))"
   ]
  },
  {
   "cell_type": "code",
   "execution_count": 45,
   "id": "16b1cbd7-8e5f-4820-953d-344a9b89c481",
   "metadata": {},
   "outputs": [
    {
     "name": "stdin",
     "output_type": "stream",
     "text": [
      "Skriv inn navn på land: England\n"
     ]
    },
    {
     "name": "stdout",
     "output_type": "stream",
     "text": [
      "London er hovedstaden i England og det er 8.982 mill. innbyggere i London\n"
     ]
    }
   ],
   "source": [
    "\"\"\" Oppgave 4 a og b - dictionary \"\"\" \n",
    "\n",
    "data = {\n",
    "    \"Norge\": [\"Oslo\", 0.634],\n",
    "    \"England\": [\"London\", 8.982],\n",
    "    \"Frankrike\": [\"Paris\", 2.161],\n",
    "    \"Italia\": [\"Roma\", 2.873]\n",
    "    }\n",
    "valgt_land = (input(\"Skriv inn navn på land:\"))\n",
    "land_info = data[valgt_land]\n",
    "\n",
    "print(land_info[0], \"er hovedstaden i\", valgt_land, \"og det er\", land_info[1], \"mill. innbyggere i\", land_info[0])\n"
   ]
  },
  {
   "cell_type": "code",
   "execution_count": 55,
   "id": "8e3b766b-9c68-4125-b090-4f6af13a10fc",
   "metadata": {},
   "outputs": [
    {
     "name": "stdin",
     "output_type": "stream",
     "text": [
      "Skriv inn navn på land: Danmark\n",
      "Skriv inn hovedstad: København\n",
      "Skriv inn innbyggertal i mill. med 3 desimaler: 1.376\n"
     ]
    },
    {
     "name": "stdout",
     "output_type": "stream",
     "text": [
      "{'Norge': ['Oslo', 0.634], 'England': ['London', 8.982], 'Frankrike': ['Paris', 2.161], 'Italia': ['Roma', 2.873], 'Danmark': ['København', '1.376']}\n"
     ]
    }
   ],
   "source": [
    "\"\"\" Oppgave 4 c - dictionary forts. \"\"\"\n",
    "\n",
    "data = {\n",
    "    \"Norge\": [\"Oslo\", 0.634],\n",
    "    \"England\": [\"London\", 8.982],\n",
    "    \"Frankrike\": [\"Paris\", 2.161],\n",
    "    \"Italia\": [\"Roma\", 2.873]\n",
    "    }\n",
    "nytt_land = (input(\"Skriv inn navn på land:\"))\n",
    "data_hovedstad = (input(\"Skriv inn hovedstad:\"))\n",
    "data_innbyggertall = (input(\"Skriv inn innbyggertal i mill. med 3 desimaler:\"))\n",
    "\n",
    "data[nytt_land] = [data_hovedstad, data_innbyggertall]\n",
    "\n",
    "print(data)"
   ]
  },
  {
   "cell_type": "code",
   "execution_count": 75,
   "id": "04590ef3-22c5-4eca-99ad-6d428354a39e",
   "metadata": {},
   "outputs": [
    {
     "name": "stdout",
     "output_type": "stream",
     "text": [
      "Areal: 8.93\n",
      "Omkrets: 11.61\n"
     ]
    }
   ],
   "source": [
    "\"\"\"Oppgave 5 - areal og omkrets av figur \"\"\"\n",
    "\n",
    "import numpy as np\n",
    "\n",
    "def fun_A(a, b):\n",
    "    areal_trekant = (a*b/2)\n",
    "    areal_sirkel = (np.square(np.pi*a/2))\n",
    "    areal_halvsirkel = areal_sirkel / 2\n",
    "    total_areal = areal_trekant + areal_halvsirkel\n",
    "    return total_areal\n",
    "\n",
    "def fun_O(a, b):\n",
    "    kvadrert_hypotenus = np.square(a) + np.square(b)\n",
    "    hypotenus = np.sqrt(kvadrert_hypotenus)\n",
    "    omkrets_trekant = b + hypotenus\n",
    "\n",
    "    omkrets_sirkel = 2 * np.pi * (a/2)\n",
    "    omkrets_halvsirkel = (omkrets_sirkel / 2)\n",
    "    total_omkrets = omkrets_trekant + omkrets_halvsirkel\n",
    "    \n",
    "    return total_omkrets\n",
    "\n",
    "p0 = 2\n",
    "p1 = 4\n",
    "\n",
    "Areal = fun_A(p0, p1)\n",
    "Omkrets = fun_O(p0, p1)\n",
    "\n",
    "\n",
    "print(\"Areal:\", round(Areal, 2))\n",
    "print(\"Omkrets:\", round(Omkrets, 2))\n"
   ]
  },
  {
   "cell_type": "code",
   "execution_count": 97,
   "id": "e3dd7376-9b19-4407-b984-7b85380e00f4",
   "metadata": {},
   "outputs": [
    {
     "data": {
      "text/plain": [
       "[<matplotlib.lines.Line2D at 0x1cb60b55eb0>]"
      ]
     },
     "execution_count": 97,
     "metadata": {},
     "output_type": "execute_result"
    },
    {
     "data": {
      "image/png": "[encoded data removed]",
      "text/plain": [
       "<Figure size 640x480 with 1 Axes>"
      ]
     },
     "metadata": {},
     "output_type": "display_data"
    }
   ],
   "source": [
    "\"\"\" Oppgave 6 - \"\"\"\n",
    "\n",
    "import numpy as np \n",
    "import matplotlib.pyplot as plt\n",
    "\n",
    "x = np.linspace(-10, 10, 200)\n",
    "y = -2**x - 5\n",
    "\n",
    "plt.xlabel(\"x\")\n",
    "plt.ylabel(\"y\")\n",
    "plt.title(\"Plotting av funksjonen f(x)=-2**x-5\")\n",
    "plt.grid()\n",
    "plt.plot(x, y, color=\"green\")\n",
    "\n",
    "\n",
    "\n",
    "           \n",
    "\n",
    "\n",
    "\n"
   ]
  }
 ],
 "metadata": {
  "kernelspec": {
   "display_name": "Python 3 (ipykernel)",
   "language": "python",
   "name": "python3"
  },
  "language_info": {
   "codemirror_mode": {
    "name": "ipython",
    "version": 3
   },
   "file_extension": ".py",
   "mimetype": "text/x-python",
   "name": "python",
   "nbconvert_exporter": "python",
   "pygments_lexer": "ipython3",
   "version": "3.12.4"
  }
 },
 "nbformat": 4,
 "nbformat_minor": 5
}
